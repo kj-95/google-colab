{
  "nbformat": 4,
  "nbformat_minor": 0,
  "metadata": {
    "colab": {
      "name": "movie recommender system.ipynb",
      "provenance": [],
      "collapsed_sections": [],
      "authorship_tag": "ABX9TyNuMbOt05DePaZ9aRu/JHxq",
      "include_colab_link": true
    },
    "kernelspec": {
      "name": "python3",
      "display_name": "Python 3"
    },
    "language_info": {
      "name": "python"
    }
  },
  "cells": [
    {
      "cell_type": "markdown",
      "metadata": {
        "id": "view-in-github",
        "colab_type": "text"
      },
      "source": [
        "<a href=\"https://colab.research.google.com/github/kj-95/google-colab/blob/main/movie_recommender_system.ipynb\" target=\"_parent\"><img src=\"https://colab.research.google.com/assets/colab-badge.svg\" alt=\"Open In Colab\"/></a>"
      ]
    },
    {
      "cell_type": "code",
      "metadata": {
        "id": "Avq_CwaVzPe5"
      },
      "source": [
        "import pandas as pd\n",
        "import numpy as np\n",
        "credits=pd.read_csv(\"tmdb_5000_credits.csv\")\n",
        "movies=pd.read_csv(\"tmdb_5000_movies.csv\")\n",
        "credits.head()\n",
        "movies.head()"
      ],
      "execution_count": null,
      "outputs": []
    },
    {
      "cell_type": "code",
      "metadata": {
        "id": "FCDGhr5G0x77"
      },
      "source": [
        "print(\"credits:\", credits.shape)\n",
        "print(\"Movies Dataframe:\" , movies.shape)\n"
      ],
      "execution_count": null,
      "outputs": []
    },
    {
      "cell_type": "code",
      "metadata": {
        "id": "SG-AK8pd1JxN"
      },
      "source": [
        "credits_column_renamed = credits.rename(index=str, columns = {\"movie_id\":\"id\"})\n",
        "movies_merge = movies.merge(credits_column_renamed, on = 'id')\n",
        "print(movies_merge.head())"
      ],
      "execution_count": null,
      "outputs": []
    },
    {
      "cell_type": "code",
      "metadata": {
        "id": "Rq4mOii-1o5P"
      },
      "source": [
        "movies_cleaned = movies-merge.drop(columns=['homepage','title_x','title_y','status','production countries'])\n",
        "print(movies_cleaned.head())\n",
        "print(movies_cleaned.info())\n",
        "print(movies_cleaned.head(1)['overview'])"
      ],
      "execution_count": null,
      "outputs": []
    },
    {
      "cell_type": "markdown",
      "metadata": {
        "id": "wKnDoUyx27So"
      },
      "source": [
        "Content Based Recommendation System"
      ]
    },
    {
      "cell_type": "code",
      "metadata": {
        "id": "dtRgN88v2j-Y"
      },
      "source": [
        "from sklearn.feature_extraction.text import TfidVectorizer\n",
        "tfv = TfidVectorizer(min_df=3, max_features= None,)\n",
        "      strip_accents='unicode',analyzer='word',token_oatter=r'w{1,}'\n",
        "      ngram_range=(1,3)\n",
        "    stop_words = 'english')"
      ],
      "execution_count": null,
      "outputs": []
    },
    {
      "cell_type": "code",
      "metadata": {
        "id": "u-OQrXrO3uU1"
      },
      "source": [
        "#fitting tfid id on overciew test\n",
        "tfv_matrix =tv.fit_transform(movies_cleaned_df['overview'])\n",
        "print(tfv_matrix)\n",
        "print(tfv_matrix.shape)                             \n",
        "                             "
      ],
      "execution_count": null,
      "outputs": []
    },
    {
      "cell_type": "code",
      "metadata": {
        "id": "-BvXrz2x4Jt6"
      },
      "source": [
        "from sklearn.metrics.pairwise import sigmoid_kernel"
      ],
      "execution_count": null,
      "outputs": []
    },
    {
      "cell_type": "code",
      "metadata": {
        "id": "oLwpfeFQ4Ks3"
      },
      "source": [
        "# Compute the sigmoid kernel\n",
        "sig = sigmoid_kernel(tfv_matrix, tfv_matrix)\n",
        "print(sig[0])"
      ],
      "execution_count": null,
      "outputs": []
    },
    {
      "cell_type": "markdown",
      "metadata": {
        "id": "u7KRFWm24OvX"
      },
      "source": [
        "Reverse mapping of indices and movie titles"
      ]
    },
    {
      "cell_type": "code",
      "metadata": {
        "id": "yzhGv9YU4MPK"
      },
      "source": [
        "# Reverse mapping of indices and movie titles\n",
        "indices = pd.Series(movies_cleaned.index, index=movies_cleaned['original_title']).drop_duplicates()\n",
        "print(indices)\n",
        "print(indices['Newlyweds'])\n",
        "print(sig[4799])\n",
        "print(list(enumerate(sig[indices['Newlyweds']])))\n",
        "print(sorted(list(enumerate(sig[indices['Newlyweds']])), key=lambda x: x[1], reverse=True))"
      ],
      "execution_count": null,
      "outputs": []
    },
    {
      "cell_type": "code",
      "metadata": {
        "id": "JpTe_G0d4wst"
      },
      "source": [
        "def give_recomendations(title, sig=sig):\n",
        "    # Get the index corresponding to original_title\n",
        "    idx = indices[title]\n",
        "\n",
        "    # Get the pairwsie similarity scores\n",
        "    sig_scores = list(enumerate(sig[idx]))\n",
        "\n",
        "    # Sort the movies\n",
        "    sig_scores = sorted(sig_scores, key=lambda x: x[1], reverse=True)\n",
        "\n",
        "    # Scores of the 10 most similar movies\n",
        "    sig_scores = sig_scores[1:11]\n",
        "\n",
        "    # Movie indices\n",
        "    movie_indices = [i[0] for i in sig_scores]\n",
        "\n",
        "    # Top 10 most similar movies\n",
        "    return movies_cleaned['original_title'].iloc[movie_indices]"
      ],
      "execution_count": null,
      "outputs": []
    },
    {
      "cell_type": "code",
      "metadata": {
        "id": "73euzpy842Ji"
      },
      "source": [
        "Testing our content-based recommendation system with the seminal film Spy Kids\n",
        "print(give_recomendations('Avatar'))"
      ],
      "execution_count": null,
      "outputs": []
    },
    {
      "cell_type": "markdown",
      "metadata": {
        "id": "L4bwCbZ726UM"
      },
      "source": [
        ""
      ]
    }
  ]
}