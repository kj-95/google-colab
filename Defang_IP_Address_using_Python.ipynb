{
  "nbformat": 4,
  "nbformat_minor": 0,
  "metadata": {
    "colab": {
      "name": "Defang IP Address using Python.ipynb",
      "provenance": [],
      "authorship_tag": "ABX9TyNmI/EvrGuU53OzbtPyYb7U",
      "include_colab_link": true
    },
    "kernelspec": {
      "name": "python3",
      "display_name": "Python 3"
    },
    "language_info": {
      "name": "python"
    }
  },
  "cells": [
    {
      "cell_type": "markdown",
      "metadata": {
        "id": "view-in-github",
        "colab_type": "text"
      },
      "source": [
        "<a href=\"https://colab.research.google.com/github/kj-95/google-colab/blob/main/Defang_IP_Address_using_Python.ipynb\" target=\"_parent\"><img src=\"https://colab.research.google.com/assets/colab-badge.svg\" alt=\"Open In Colab\"/></a>"
      ]
    },
    {
      "cell_type": "code",
      "metadata": {
        "id": "NcfReeSmdSN_"
      },
      "source": [
        "def ip_address(address):\n",
        "  new_address = \"\"\n",
        "  split_address = address.split(\".\")\n",
        "  separator= \"[.]\"\n",
        "  new_address = separator.join(split_address)\n",
        "  return new_address\n",
        "ipaddress = ip_address(\"1.1.2.3\") \n",
        "print(ipaddress)"
      ],
      "execution_count": null,
      "outputs": []
    }
  ]
}