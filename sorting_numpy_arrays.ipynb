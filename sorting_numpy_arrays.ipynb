{
  "nbformat": 4,
  "nbformat_minor": 0,
  "metadata": {
    "colab": {
      "name": "sorting - numpy arrays.ipynb",
      "provenance": [],
      "authorship_tag": "ABX9TyOF+qOxEEAg5bKwvDs9VHJ1",
      "include_colab_link": true
    },
    "kernelspec": {
      "name": "python3",
      "display_name": "Python 3"
    },
    "language_info": {
      "name": "python"
    }
  },
  "cells": [
    {
      "cell_type": "markdown",
      "metadata": {
        "id": "view-in-github",
        "colab_type": "text"
      },
      "source": [
        "<a href=\"https://colab.research.google.com/github/kj-95/google-colab/blob/main/sorting_numpy_arrays.ipynb\" target=\"_parent\"><img src=\"https://colab.research.google.com/assets/colab-badge.svg\" alt=\"Open In Colab\"/></a>"
      ]
    },
    {
      "cell_type": "code",
      "metadata": {
        "id": "nk1i3BurYTky",
        "colab": {
          "base_uri": "https://localhost:8080/"
        },
        "outputId": "5a763093-25f7-4698-9780-fe1f481fce5f"
      },
      "source": [
        "import numpy as np\n",
        "a = np.array([10,50,30,40])\n",
        "print(np.sort(a))"
      ],
      "execution_count": 4,
      "outputs": [
        {
          "output_type": "stream",
          "text": [
            "[10 30 40 50]\n"
          ],
          "name": "stdout"
        }
      ]
    },
    {
      "cell_type": "code",
      "metadata": {
        "colab": {
          "base_uri": "https://localhost:8080/"
        },
        "id": "3lQo6M6RadnS",
        "outputId": "adbe0578-8215-4f33-e182-a660f3ebd2c8"
      },
      "source": [
        "def sorting(x):\n",
        "  for i in range(len(x)):\n",
        "    swap = i + np.argmin(x[i:1])\n",
        "    (x[i], x[swap]) = (x[swap], x[i])\n",
        "    return x\n",
        "print(sorting(a))"
      ],
      "execution_count": 5,
      "outputs": [
        {
          "output_type": "stream",
          "text": [
            "[10 50 30 40]\n"
          ],
          "name": "stdout"
        }
      ]
    },
    {
      "cell_type": "code",
      "metadata": {
        "colab": {
          "base_uri": "https://localhost:8080/"
        },
        "id": "8YB4YPu2b_Yq",
        "outputId": "f028671a-eec5-4835-9fb2-f05f8eff2d92"
      },
      "source": [
        "import numpy as np\n",
        "a = np.array([10,50,40,30,])\n",
        "print(np.sort(a))"
      ],
      "execution_count": 6,
      "outputs": [
        {
          "output_type": "stream",
          "text": [
            "[10 30 40 50]\n"
          ],
          "name": "stdout"
        }
      ]
    },
    {
      "cell_type": "code",
      "metadata": {
        "id": "lghWtoDxcLVZ"
      },
      "source": [
        "def sorting(x):\n",
        "  for i in range(len(x)):\n",
        "    swap = i + np.argmin(x[i:1])\n",
        "    (x[i], x[swap]) = (x[swap] , x[i])\n",
        "    return x\n",
        "  print(sorting(a))"
      ],
      "execution_count": 8,
      "outputs": []
    }
  ]
}