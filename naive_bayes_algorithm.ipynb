{
  "nbformat": 4,
  "nbformat_minor": 0,
  "metadata": {
    "colab": {
      "name": "naive bayes algorithm.ipynb",
      "provenance": [],
      "authorship_tag": "ABX9TyNzyBhDrf+pIjt/7uVLH9Gt",
      "include_colab_link": true
    },
    "kernelspec": {
      "name": "python3",
      "display_name": "Python 3"
    },
    "language_info": {
      "name": "python"
    }
  },
  "cells": [
    {
      "cell_type": "markdown",
      "metadata": {
        "id": "view-in-github",
        "colab_type": "text"
      },
      "source": [
        "<a href=\"https://colab.research.google.com/github/kj-95/google-colab/blob/main/naive_bayes_algorithm.ipynb\" target=\"_parent\"><img src=\"https://colab.research.google.com/assets/colab-badge.svg\" alt=\"Open In Colab\"/></a>"
      ]
    },
    {
      "cell_type": "code",
      "metadata": {
        "colab": {
          "base_uri": "https://localhost:8080/"
        },
        "id": "3gOiLD1ApwAf",
        "outputId": "2a1384f2-b45e-40fe-8d49-9fc106822f60"
      },
      "source": [
        "from sklearn.naive_bayes import GaussianNB\n",
        "from sklearn.naive_bayes import MultinomialNB\n",
        "from sklearn import datasets\n",
        "from sklearn.metrics import confusion_matrix\n",
        "iris= datasets.load_iris()\n",
        "\n",
        "gnb=GaussianNB()\n",
        "mnb=MultinomialNB()\n",
        "y_pred_gnb =gnb.fit(iris.data, iris.target).predict(iris.data)\n",
        "cnf_matrix_gnb = confusion_matrix(iris.target, y_pred_gnb)\n",
        "print(cnf_matrix_gnb)"
      ],
      "execution_count": 1,
      "outputs": [
        {
          "output_type": "stream",
          "text": [
            "[[50  0  0]\n",
            " [ 0 47  3]\n",
            " [ 0  3 47]]\n"
          ],
          "name": "stdout"
        }
      ]
    },
    {
      "cell_type": "code",
      "metadata": {
        "colab": {
          "base_uri": "https://localhost:8080/"
        },
        "id": "pgIdZQggq-67",
        "outputId": "0035f87a-7d66-4922-d063-fb0185f7a88b"
      },
      "source": [
        "y_pred_mnb = mnb.fit(iris.data,iris.target).predict(iris.data)\n",
        "cnf_matrix_mnb = confusion_matrix(iris.target , y_pred_mnb)\n",
        "print(cnf_matrix_mnb)"
      ],
      "execution_count": 5,
      "outputs": [
        {
          "output_type": "stream",
          "text": [
            "[[50  0  0]\n",
            " [ 0 46  4]\n",
            " [ 0  3 47]]\n"
          ],
          "name": "stdout"
        }
      ]
    },
    {
      "cell_type": "code",
      "metadata": {
        "id": "EXcnHYqKrIU7"
      },
      "source": [
        "_mnb"
      ],
      "execution_count": null,
      "outputs": []
    }
  ]
}