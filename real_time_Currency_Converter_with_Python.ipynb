{
  "nbformat": 4,
  "nbformat_minor": 0,
  "metadata": {
    "colab": {
      "name": "real-time Currency Converter with Python.ipynb",
      "provenance": [],
      "authorship_tag": "ABX9TyMkfSaT/Yi0AFywnqf9IDlF",
      "include_colab_link": true
    },
    "kernelspec": {
      "name": "python3",
      "display_name": "Python 3"
    },
    "language_info": {
      "name": "python"
    }
  },
  "cells": [
    {
      "cell_type": "markdown",
      "metadata": {
        "id": "view-in-github",
        "colab_type": "text"
      },
      "source": [
        "<a href=\"https://colab.research.google.com/github/kj-95/google-colab/blob/main/real_time_Currency_Converter_with_Python.ipynb\" target=\"_parent\"><img src=\"https://colab.research.google.com/assets/colab-badge.svg\" alt=\"Open In Colab\"/></a>"
      ]
    },
    {
      "cell_type": "code",
      "metadata": {
        "colab": {
          "base_uri": "https://localhost:8080/"
        },
        "id": "dAtbf10efFfx",
        "outputId": "f710f7cb-597d-49b9-b070-e905d372b0b9"
      },
      "source": [
        "!pip install forex_python\n",
        "from forex_python.converter import CurrencyRates\n",
        "c = CurrencyRates()\n",
        "amount = int(input(\"Enter the amount: \"))\n",
        "from_currency = input(\"From Currency: \").upper()\n",
        "to_currency = input(\"To Currency: \").upper()\n",
        "print(from_currency, \" To \", to_currency, amount)\n",
        "result = c.convert(from_currency, to_currency, amount)\n",
        "print(result)"
      ],
      "execution_count": 3,
      "outputs": [
        {
          "output_type": "stream",
          "text": [
            "Collecting forex_python\n",
            "  Downloading https://files.pythonhosted.org/packages/1a/ff/f3f6da21e8fdc6ece355643871749c79a3191fed1cba088cbd0dc597dfee/forex-python-1.5.tar.gz\n",
            "Requirement already satisfied: requests in /usr/local/lib/python3.7/dist-packages (from forex_python) (2.23.0)\n",
            "Collecting simplejson\n",
            "\u001b[?25l  Downloading https://files.pythonhosted.org/packages/a8/04/377418ac1e530ce2a196b54c6552c018fdf1fe776718053efb1f216bffcd/simplejson-3.17.2-cp37-cp37m-manylinux2010_x86_64.whl (128kB)\n",
            "\u001b[K     |████████████████████████████████| 133kB 5.3MB/s \n",
            "\u001b[?25hRequirement already satisfied: idna<3,>=2.5 in /usr/local/lib/python3.7/dist-packages (from requests->forex_python) (2.10)\n",
            "Requirement already satisfied: chardet<4,>=3.0.2 in /usr/local/lib/python3.7/dist-packages (from requests->forex_python) (3.0.4)\n",
            "Requirement already satisfied: certifi>=2017.4.17 in /usr/local/lib/python3.7/dist-packages (from requests->forex_python) (2020.12.5)\n",
            "Requirement already satisfied: urllib3!=1.25.0,!=1.25.1,<1.26,>=1.21.1 in /usr/local/lib/python3.7/dist-packages (from requests->forex_python) (1.24.3)\n",
            "Building wheels for collected packages: forex-python\n",
            "  Building wheel for forex-python (setup.py) ... \u001b[?25l\u001b[?25hdone\n",
            "  Created wheel for forex-python: filename=forex_python-1.5-cp37-none-any.whl size=7235 sha256=47d6631e5508eca7ab9248cbd987166df9f0fdaa5a2ac09f177ac561bd3e9b4b\n",
            "  Stored in directory: /root/.cache/pip/wheels/c9/ee/ce/a0c208e72d186b786b0c51914675bc03d1bf00b8ed9406271b\n",
            "Successfully built forex-python\n",
            "Installing collected packages: simplejson, forex-python\n",
            "Successfully installed forex-python-1.5 simplejson-3.17.2\n",
            "Enter the amount: 10000\n",
            "From Currency: USD\n",
            "To Currency: INR\n",
            "USD  To  INR 10000\n",
            "725551.689017\n"
          ],
          "name": "stdout"
        }
      ]
    },
    {
      "cell_type": "code",
      "metadata": {
        "id": "I8Sr0EYVgVnh"
      },
      "source": [
        "from forex_python.converter import CurrencyRates\n",
        "c= CurrencyRates()\n",
        "amount = int(input(\"Enter the amount:\"))\n",
        "from_Currency = input(\"From Currency:\").upper()\n",
        "to_Currency = input(\"To Currency:\").upper()\n",
        "print(from_currency, \" To \", to_currency , amount)\n",
        "result = c.convert(from_currency, to_currency, amount)\n",
        "print(result)"
      ],
      "execution_count": null,
      "outputs": []
    },
    {
      "cell_type": "code",
      "metadata": {
        "id": "1n4nAzP4gIlF"
      },
      "source": [
        ""
      ],
      "execution_count": null,
      "outputs": []
    }
  ]
}